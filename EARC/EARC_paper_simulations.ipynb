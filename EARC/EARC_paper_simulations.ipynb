{
  "cells": [
    {
      "cell_type": "markdown",
      "metadata": {
        "id": "g22lTbLnoPah"
      },
      "source": [
        "# Structure Preserving Operator Toolset (SPORT)"
      ]
    },
    {
      "cell_type": "markdown",
      "metadata": {
        "id": "CPnf5vtEoPam"
      },
      "source": [
        "This notebook contains the prototypical algorithms and computational examples described Section V. in the paper *Identifying Systems with Symmetries using Equivariant Autoregressive Reservoir Computers* (2025). Specifically, this Jupyter Notebook includes sections V.A and V.B, corresponding to:\n",
        "\n",
        "1. **Computational Example 1**: *Identification of a Hamiltonian system with symmetries using EARC*.\n",
        "2. **Computational Example 2**: *Identification of a financial competition system with symmetries using EARC*.\n",
        "\n",
        "SPORT consists of a collection of functions written in Python that can be used for sparse identification and numerical simulation of dynamical systems.\n",
        "\n",
        "The numerical experiments programmed in this notebook use synthetic data generation and sparese model identification."
      ]
    },
    {
      "cell_type": "markdown",
      "metadata": {
        "id": "9RySP4btoPan"
      },
      "source": [
        "## Components of Algorithm 1: EARC Model Identification"
      ]
    },
    {
      "cell_type": "markdown",
      "metadata": {
        "id": "oOo8UqsToPao"
      },
      "source": [
        "### `SpaRCSim.py`\n",
        "Reservoir computer simulator"
      ]
    },
    {
      "cell_type": "code",
      "execution_count": 20,
      "metadata": {
        "id": "GWXnvbBLoPao"
      },
      "outputs": [],
      "source": [
        "\"\"\"\n",
        "Created on Fri Apr 29 15:27:32 2022\n",
        "SpaRCSim  Reservoir computer simulator\n",
        "   Code by Fredy Vides\n",
        "   For Paper, \"Computing Sparse Reservoir Computers\"\n",
        "   by F. Vides\n",
        "@author: Fredy Vides\n",
        "\"\"\"\n",
        "\n",
        "def SpaRCSim(w,x0,tp,N):\n",
        "    from numpy import zeros\n",
        "    # from NLMap import NLMap\n",
        "\n",
        "    lx = len(x0)\n",
        "    r = zeros((lx,N+1))\n",
        "    r[:,0] = x0\n",
        "\n",
        "    for k in range(N):\n",
        "        r[:,k+1] = w@NLMap(r[:,k],tp)\n",
        "\n",
        "    return r"
      ]
    },
    {
      "cell_type": "markdown",
      "metadata": {
        "id": "o-ZQC7tAoPaq"
      },
      "source": [
        "### `RCDataGen.py`\n",
        "Data generator for the recurrent reservoir computer"
      ]
    },
    {
      "cell_type": "code",
      "execution_count": 21,
      "metadata": {
        "id": "dZ7C8l6OoPar"
      },
      "outputs": [],
      "source": [
        "\"\"\"\n",
        "Created on Sun Jul 10 10:53:58 2022\n",
        "RCDataGen Data generator for the recurrent reservoir computer\n",
        "@author: doctor\n",
        "\"\"\"\n",
        "\n",
        "def RCDataGen(data,L,S,ss,tp):\n",
        "    from numpy import zeros\n",
        "    from scipy.linalg import hankel\n",
        "    # from RFactor import RFactor\n",
        "    # from RNLMap import RNLMap\n",
        "\n",
        "\n",
        "    def DataGenerator(X,R,tp,r):\n",
        "        Y = zeros((r.shape[0],R))\n",
        "        for j in range(R):\n",
        "            Y[:,j] = RNLMap(r,X[:,j],tp)\n",
        "        return Y\n",
        "\n",
        "    data = data[:,0:S:ss]\n",
        "    s = data.shape\n",
        "    sL = s[0]*L\n",
        "    S = s[1]\n",
        "    R = S-L+1\n",
        "\n",
        "    r = RFactor(s[0], L, tp)\n",
        "\n",
        "    Ldata = zeros((sL,R))\n",
        "    for k in range(s[0]):\n",
        "        Ldata[k*L:(k+1)*L,:] = hankel(data[k,:L],data[k,(L-1):S])\n",
        "\n",
        "    D = DataGenerator(Ldata,R,tp,r)\n",
        "\n",
        "    return D,r"
      ]
    },
    {
      "cell_type": "markdown",
      "metadata": {
        "id": "b6pjka1KoPas"
      },
      "source": [
        "### `spsolver.py`\n",
        "Sparse linear least squares solver"
      ]
    },
    {
      "cell_type": "code",
      "execution_count": 22,
      "metadata": {
        "id": "9schsXupoPat"
      },
      "outputs": [],
      "source": [
        "\"\"\"\n",
        "Created on Wed Mar 31 02:57:52 2021\n",
        "SPSOLVER  Sparse linear least squares solver\n",
        "   Code by Fredy Vides\n",
        "   For Paper, \"Computing Sparse Semilinear Models for Approximately Eventually Periodic Signals\"\n",
        "   by F. Vides\n",
        "@author: Fredy Vides\n",
        "\"\"\"\n",
        "\n",
        "def spsolver(A,Y,L=100,mode = \"ls\",nz=100,tol=1e-2,delta=1e-2):\n",
        "    from numpy.linalg import svd,norm,lstsq\n",
        "    from numpy import zeros,dot,diag,argsort,inf\n",
        "    N = A.shape[1]\n",
        "    M = Y.shape[1]\n",
        "    if nz<0:\n",
        "        nz = N\n",
        "    X=zeros((N,M))\n",
        "    u,s,v=svd(A,full_matrices=0)\n",
        "    rk=sum(s>tol)\n",
        "    u=u[:,:rk]\n",
        "    s=s[:rk]\n",
        "    s=1/s\n",
        "    s=diag(s)\n",
        "    v=v[:rk,:]\n",
        "    A=dot(u.T,A)\n",
        "    Y=dot(u.T,Y)\n",
        "    X0=dot(v.T,dot(s,Y))\n",
        "    for k in range(M):\n",
        "        w=zeros((N,))\n",
        "        K=1\n",
        "        Error=1+tol\n",
        "        c=X0[:,k]\n",
        "        x0=c\n",
        "        ac=abs(c)\n",
        "        f=argsort(-ac)\n",
        "        N0=int(min(sum(ac[f]>delta),nz))\n",
        "        while (K<=L) & (Error>tol):\n",
        "            ff=f[:N0]\n",
        "            X[:,k]=w\n",
        "            if mode == \"ls\":\n",
        "                c = lstsq(A[:,ff],Y[:,k],rcond=None)[0]\n",
        "                X[ff,k]=c\n",
        "            else:\n",
        "                u,s,v=svd(A[:,ff],full_matrices=0)\n",
        "                rk=sum(s>tol)\n",
        "                u=u[:,:rk]\n",
        "                s=s[:rk]\n",
        "                s=1/s\n",
        "                s=diag(s)\n",
        "                v=v[:rk,:]\n",
        "                c = dot(v.T,dot(s,dot(u.T,Y[:,k])))\n",
        "            X[ff,k] = c\n",
        "            Error=norm(x0-X[:,k],inf)\n",
        "            x0=X[:,k]\n",
        "            ac=abs(x0)\n",
        "            f=argsort(-ac)\n",
        "            N0=int(min(sum(ac[f]>delta),nz))\n",
        "            K=K+1\n",
        "    return X"
      ]
    },
    {
      "cell_type": "markdown",
      "metadata": {
        "id": "YowRx6_moPat"
      },
      "source": [
        "### `RFactor.py`\n",
        "R-factor for generation of RC-data"
      ]
    },
    {
      "cell_type": "code",
      "execution_count": 23,
      "metadata": {
        "id": "EwL-Q_bnoPau"
      },
      "outputs": [],
      "source": [
        "\"\"\"\n",
        "Created on Wed Jul 13 15:47:34 2022\n",
        "RFactor\n",
        "@author: doctor\n",
        "\"\"\"\n",
        "\n",
        "def RFactor(s,L,tp,method = \"random\",tol = 1e-15, scale = 1e0):\n",
        "    from numpy import zeros, where, vstack\n",
        "    # from NLMap import NLMap\n",
        "    sL = s*L\n",
        "    if method == \"random\":\n",
        "        from numpy.random import randn\n",
        "        z = scale*randn(sL,1)\n",
        "        z = NLMap(z, tp)\n",
        "        z[-1] = scale*randn()\n",
        "    elif method == \"prime\":\n",
        "        from PrimeGenerator import PrimeGenerator\n",
        "        z0 = PrimeGenerator(sL+1,int(sL/2))\n",
        "        z = NLMap(z0[:-1], tp)\n",
        "        z[-1] = z0[-1]\n",
        "    N = int((sL**(tp+1)-sL)/(sL-1))+1\n",
        "    w0 = zeros((1,N))\n",
        "    R = w0.copy()\n",
        "    R[0,0] = 1\n",
        "    for j in range(1,N):\n",
        "        f = where(abs(z-z[j])<tol)\n",
        "        if f[0][0] == j:\n",
        "            w0[0,f] = 1\n",
        "            R = vstack((R,w0/len(f[0])))\n",
        "            w0[0,f] = 0\n",
        "    return R"
      ]
    },
    {
      "cell_type": "code",
      "source": [
        "\"\"\"\n",
        "Created on Wed Jul 13 15:47:34 2022\n",
        "RFactor\n",
        "@author: doctor\n",
        "\"\"\"\n",
        "\n",
        "def SRFactor(s,L,tp,method = \"random\",tol = 1e-15, scale = 1e0):\n",
        "    from numpy import zeros, where, vstack\n",
        "    # from NLMap import NLMap\n",
        "    sL = s*L\n",
        "    if method == \"random\":\n",
        "        from numpy.random import randn\n",
        "        z = scale*randn(sL,1)\n",
        "        z = NLMap(z, tp)\n",
        "        z[-1] = scale*randn()\n",
        "    elif method == \"prime\":\n",
        "        from PrimeGenerator import PrimeGenerator\n",
        "        z0 = PrimeGenerator(sL+1,int(sL/2))\n",
        "        z = NLMap(z0[:-1], tp)\n",
        "        z[-1] = z0[-1]\n",
        "    N = int((sL**(tp+1)-sL)/(sL-1))+1\n",
        "    w0 = zeros((1,N))\n",
        "    R = w0.copy()\n",
        "    R[0,0] = 1\n",
        "    for j in range(1,N):\n",
        "        f = where(abs(z-z[j])<tol)\n",
        "        if f[0][0] == j:\n",
        "            w0[0,f] = 1\n",
        "            R = vstack((R,w0))\n",
        "            w0[0,f] = 0\n",
        "    return R"
      ],
      "metadata": {
        "id": "97QuWcr6ujWp"
      },
      "execution_count": 24,
      "outputs": []
    },
    {
      "cell_type": "markdown",
      "metadata": {
        "id": "Ovwd5kLHoPau"
      },
      "source": [
        "### `RNLMap.py`\n",
        "Reduced nonlinear data mapping"
      ]
    },
    {
      "cell_type": "code",
      "execution_count": 25,
      "metadata": {
        "id": "MgKVeeh_oPau"
      },
      "outputs": [],
      "source": [
        "\"\"\"\n",
        "Created on Fri Apr 29 14:58:40 2022\n",
        "RNLMap Reduced nonlinear data mapping\n",
        "   Code by Fredy Vides\n",
        "   For Paper, \"Computing Sparse Semilinear Models for Approximately Eventually Periodic Signals\"\n",
        "   by F. Vides\n",
        "@author: Fredy Vides\n",
        "\"\"\"\n",
        "def RNLMap(R,x,tp):\n",
        "    from numpy import append, kron\n",
        "    p = x\n",
        "    q = p\n",
        "    for k in range(tp-1):\n",
        "        q = kron(x,q)\n",
        "        p = append(p,q)\n",
        "    p = R@append(p,1)\n",
        "    return p"
      ]
    },
    {
      "cell_type": "markdown",
      "metadata": {
        "id": "YXNC-h9FoPav"
      },
      "source": [
        "### `NLMap.py`\n",
        "Nonlinear data mapping"
      ]
    },
    {
      "cell_type": "code",
      "execution_count": 26,
      "metadata": {
        "id": "kP-5twwmoPav"
      },
      "outputs": [],
      "source": [
        "\"\"\"\n",
        "Created on Fri Sept 29 15:27:32 2022\n",
        "NLMap Nonlinear data mapping\n",
        "   Code by Fredy Vides\n",
        "   For Paper, \"Approximating equivariant evolution operators with\n",
        "   recurrent reservoir computers\"\n",
        "   by F. Vides\n",
        "@author: Fredy Vides\n",
        "\"\"\"\n",
        "\n",
        "def NLMap(x,tp):\n",
        "    from numpy import append, kron\n",
        "    p = x\n",
        "    q = p\n",
        "    for k in range(tp-1):\n",
        "        q = kron(x,q)\n",
        "        p = append(p,q)\n",
        "    p = append(p,1)\n",
        "    return p"
      ]
    },
    {
      "cell_type": "markdown",
      "metadata": {
        "id": "Bapi2inCoPav"
      },
      "source": [
        "## Compare EARC to NGRC"
      ]
    },
    {
      "cell_type": "markdown",
      "metadata": {
        "id": "5BiYWvI9oPaw"
      },
      "source": [
        "### `SRC.py`\n",
        "Non-Structured Sparse reservoir computer identifier"
      ]
    },
    {
      "cell_type": "code",
      "execution_count": 27,
      "metadata": {
        "id": "PVmoSJRfoPaw"
      },
      "outputs": [],
      "source": [
        "\"\"\"\n",
        "Created on Sept 2023\n",
        "SpaRC  Sparse reservoir computer identifier\n",
        "   Code by Fredy Vides\n",
        "   For Paper, \"Dynamic financial processes identification using sparse regressive\n",
        "   reservoir computers\"\n",
        "   by F. Vides\n",
        "@author: Fredy Vides\n",
        "\"\"\"\n",
        "\n",
        "def SRC(data,L,S,ss,tp,nz,tol):\n",
        "    from scipy.linalg import pinv\n",
        "    from numpy import identity\n",
        "\n",
        "    s = data.shape\n",
        "    sL = s[0]*L\n",
        "    R = s[1]-L+1\n",
        "\n",
        "    D,r = RCDataGen(data,L,S,ss,tp)\n",
        "\n",
        "    w0 = D[:sL,1:]@pinv(D[:,:-1])\n",
        "    return w0,D,r"
      ]
    },
    {
      "cell_type": "markdown",
      "metadata": {
        "id": "ltKlyaZcoPaw"
      },
      "source": [
        "### `comparative_metrics.py`\n",
        "Table and graph generator for Experiment's estimation of RMSE and $\\Delta_{EM}$"
      ]
    },
    {
      "cell_type": "code",
      "execution_count": 28,
      "metadata": {
        "id": "RZyXDCgRoPaw"
      },
      "outputs": [],
      "source": [
        "def comparative_metrics(mdata, EMconst0,RMSE0,y0,t=None,z=None,exp=None):\n",
        "    from numpy.linalg import norm\n",
        "    from numpy import identity\n",
        "    from math import sqrt\n",
        "    from matplotlib.pyplot import figure, grid, tight_layout, show, plot, xlabel, ylabel, axis\n",
        "    params=mdata[0]\n",
        "    groups=mdata[1]\n",
        "\n",
        "    X=params[0]\n",
        "    L = X.shape[0]\n",
        "    s = X.shape[1]\n",
        "\n",
        "    solver= params[1]\n",
        "    l=params[2]\n",
        "    S=params[3]*2\n",
        "    ss=params[4]\n",
        "    tp=params[5]\n",
        "    nz=params[6]\n",
        "    tol=params[7]\n",
        "    delta=params[8]\n",
        "\n",
        "    w,data,r = SRC(X.T,l,S,ss,tp,nz,tol)\n",
        "    wr = w@r\n",
        "    y = SpaRCSim(wr,data[:s*l,-1],tp,L-S+l-1)\n",
        "    g1=groups[0]\n",
        "    G1=groups[1]\n",
        "    if exp == \"Fin\":\n",
        "        EMconst1 = 0\n",
        "        X0 = z.T[(S-1):]\n",
        "        y_hat = y.T\n",
        "        RMSE1 = sqrt(norm(y_hat-X0)**2/(X0.shape[0]*X0.shape[1]))\n",
        "        h1 = identity(g1.shape[0])\n",
        "        H1 = identity(G1.shape[0])\n",
        "\n",
        "        fig0 = figure()\n",
        "        ax00 = fig0.add_subplot(2,1,1)\n",
        "\n",
        "        lines = ax00.plot(t, z.T, 'g', linewidth=1, linestyle='solid')\n",
        "        lines[0].set_label('reference')\n",
        "        lines = ax00.plot(t[:(S-l)], z[:, :(S-l)].T, 'b', linewidth=1, linestyle='dashed')\n",
        "        lines[0].set_label('training data')\n",
        "        lines = ax00.plot(t[(S-l):], y.T, color='darkorange', linewidth=1, linestyle=(0, (1, 1)))\n",
        "        lines[0].set_label('predicted NGRC')\n",
        "        ax00.set_ylabel('Representation ranking')\n",
        "        axis('tight')\n",
        "        grid('on')\n",
        "\n",
        "        ax01 = fig0.add_subplot(2,1,2)\n",
        "        lines = ax01.plot(t, z.T, 'g', linewidth=1, linestyle='solid')\n",
        "        lines[0].set_label('reference')\n",
        "        lines = ax01.plot(t[:(S-l)], z[:, :(S-l)].T, 'b', linewidth=1, linestyle='dashed')\n",
        "        lines[0].set_label('training data')\n",
        "        lines = ax01.plot(t[params[3]-l:], y0.T, 'r', linewidth=1, linestyle=(0, (1, 1)))\n",
        "        lines[0].set_label('predicted EARC')\n",
        "        ax01.set_xlabel('t (months)')\n",
        "        ax01.set_ylabel('Representation ranking')\n",
        "        axis('tight')\n",
        "        grid('on')\n",
        "\n",
        "        ax00.legend(loc=7, fontsize='x-small')\n",
        "        ax01.legend(loc=7, fontsize='x-small')\n",
        "        show()\n",
        "\n",
        "\n",
        "        fig0.savefig(\"fig_Financial_competition_dynamics_comp.png\",dpi=1000,format='png')\n",
        "        for k in range(5):\n",
        "            EMconst1 = EMconst1 + norm(h1@wr-wr@H1)\n",
        "            h1 = h1@g1\n",
        "            H1 = H1@G1\n",
        "\n",
        "    else:\n",
        "        X0 = X[(S-l):,:].T\n",
        "        y_hat = y[[0,l],:]\n",
        "        RMSE1 = sqrt(norm(y_hat-X0)**2/(X0.shape[0]*X0.shape[1]))\n",
        "        g2 = groups[2]\n",
        "        G2 = groups[3]\n",
        "        EMconst1 = norm(g1@wr-wr@G1)+norm(g2@wr-wr@G2)+norm(g1@g2@wr-wr@G1@G2)\n",
        "\n",
        "        fig0 = figure()\n",
        "        ax00 = fig0.add_subplot(1,2,1)\n",
        "        ax00.plot(X[(S-l):,0],X[(S-l):,1],'g',linewidth=1,linestyle='solid',label='reference')\n",
        "        ax00.plot(y[0,:].T,y[l,:].T,color='darkorange', linewidth=1,linestyle=(0, (1, 5)),label='predicted NGRC')\n",
        "        grid(color='k', linestyle='--', linewidth=0.5)\n",
        "        tight_layout()\n",
        "        ax00.legend(loc=2,fontsize='x-small')\n",
        "        ax00 = fig0.add_subplot(1,2,2)\n",
        "        ax00.plot(X[(S-l):,0],X[(S-l):,1],'g',linewidth=1,linestyle='solid',label='reference')\n",
        "        ax00.plot(y0[0,:].T,y0[l,:].T,'r',linewidth=1,linestyle=(0, (1, 1)),label='predicted EARC')\n",
        "        grid(color='k', linestyle='--', linewidth=0.5)\n",
        "        tight_layout()\n",
        "        ax00.legend(loc=2,fontsize='x-small')\n",
        "        show()\n",
        "        fig0.savefig('fig_hamiltonianSystemID_graph_comp.png',dpi=1000,format='png')\n",
        "\n",
        "    return RMSE0, RMSE1, EMconst0,EMconst1"
      ]
    },
    {
      "cell_type": "markdown",
      "metadata": {
        "id": "yjSwnA-ioPax"
      },
      "source": [
        "## COMPUTATIONAL EXAMPLE 1: Identification of a Hamiltonian system with symmetries using EARC\n",
        "\n",
        "Let us consider a Hamiltonian system determined by the following initial value problem.\n",
        "$\n",
        "\\begin{align}\n",
        "&\\frac{d q}{dt}=p^3-p,\\\\\n",
        "&\\frac{d p}{dt}=q^3-q, \\nonumber\\\\\n",
        "&q(0)=1,p(0)=0\\nonumber\n",
        "\\end{align}\n",
        "$"
      ]
    },
    {
      "cell_type": "markdown",
      "metadata": {
        "id": "nGW5FhReoPax"
      },
      "source": [
        "### `HamiltonianSystemID.py`\n",
        "#### Hamiltonian System Identification with symmetries using EARC\n",
        "The function `HamiltonianSystemID(·)` runs the first experiment as described in Section V.A of Vides et. al 2025."
      ]
    },
    {
      "cell_type": "code",
      "execution_count": 29,
      "metadata": {
        "id": "34K6OmbEoPay"
      },
      "outputs": [],
      "source": [
        "#!/usr/bin/env python3\n",
        "# -*- coding: utf-8 -*-\n",
        "\"\"\"\n",
        "Created on Sun Nov 12 11:07:42 2023\n",
        "Example 1:\n",
        "    from HamiltonianSystemID import HamiltonianSystemID\n",
        "    wr,w0,r,EMconst = HamiltonianSystemID(600)\n",
        "@author: Fredy Vides, Department of Statistics and Research, CNBS, Honduras\n",
        "\"\"\"\n",
        "def HamiltonianSystemID(S):\n",
        "    # from HamiltonianSystem import HamiltonianSystem\n",
        "    # from K4SymProjector import K4SymProjector\n",
        "    # from SpaRCSim import SpaRCSim\n",
        "    from matplotlib.pyplot import figure,show,grid,tight_layout\n",
        "    from numpy import array, kron, identity, zeros\n",
        "    from numpy.linalg import norm\n",
        "    from math import sqrt\n",
        "    from time import time\n",
        "\n",
        "    t,X = HamiltonianSystem()\n",
        "    K4gen = array([[0,1,-1,0],[1,0,0,-1]])\n",
        "    L = X.shape[0]\n",
        "    s = X.shape[1]\n",
        "    l = 5\n",
        "    tp = 3\n",
        "    nz = int(s*l+(s*l)*(s*l+1)/2+(s*l)**3+1)\n",
        "    g1 = kron(K4gen[:,:s],identity(l))\n",
        "    g2 = kron(K4gen[:,s:],identity(l))\n",
        "    dn = int(((s*l)**(tp+1)-s*l)/(s*l-1)+1)\n",
        "    G1 = zeros((dn,dn))\n",
        "    G2 = zeros((dn,dn))\n",
        "    G1[:s*l,:s*l] = g1\n",
        "    G1[s*l:((s*l)**(tp-1)+s*l),s*l:((s*l)**(tp-1)+s*l)] = kron(g1,g1)\n",
        "    G1[((s*l)**(tp-1)+s*l):-1,((s*l)**(tp-1)+s*l):-1] = kron(g1,kron(g1,g1))\n",
        "    G1[-1,-1] = 1\n",
        "    G2[:s*l,:s*l] = g2\n",
        "    G2[s*l:((s*l)**(tp-1)+s*l),s*l:((s*l)**(tp-1)+s*l)] = kron(g2,g2)\n",
        "    G2[((s*l)**(tp-1)+s*l):-1,((s*l)**(tp-1)+s*l):-1] = kron(g2,kron(g2,g2))\n",
        "    G2[-1,-1] = 1\n",
        "    groups = (g1,G1,g2,G2)\n",
        "    t0 = time()\n",
        "    w0,data,r = K4SymProjector(X.T,\"svd\",l,S,1,tp,nz,g1,g2,G1,G2,1e-3,1e-4)\n",
        "    wr = w0@r\n",
        "    print(\"Elapsed time: \",time()-t0)\n",
        "    y = SpaRCSim(wr,data[:s*l,-1],tp,L-S+l-1)\n",
        "\n",
        "    X0 = X[(S-l):,:].T\n",
        "    y_hat = y[[0,l],:]\n",
        "    RMSE = sqrt(norm(y_hat-X0)**2/(X0.shape[0]*X0.shape[1]))\n",
        "\n",
        "    EMconst = norm(g1@wr-wr@G1)+norm(g2@wr-wr@G2)+norm(g1@g2@wr-wr@G1@G2)\n",
        "\n",
        "    mdt = (X,\"svd\",l,S,1,tp,nz,1e-3,1e-4)\n",
        "    mdata =  (mdt,groups)\n",
        "    return wr,w0,r,EMconst,RMSE,mdata,y"
      ]
    },
    {
      "cell_type": "markdown",
      "metadata": {
        "id": "Wx24ykh3oPay"
      },
      "source": [
        "### `HamiltonianSystem.py`:\n",
        "#### Hamiltonian System Synthetic Signal Generator\n",
        "The function `HamiltonianSystem(·)` computes the synthetic signals corresponding to the data sample $\\Sigma_{600} \\subset \\mathbb{R}^3$. Using lsoda from the FORTRAN library odepack via the Python function odeint."
      ]
    },
    {
      "cell_type": "code",
      "execution_count": 30,
      "metadata": {
        "id": "PLSwz304oPay"
      },
      "outputs": [],
      "source": [
        "\"\"\"\n",
        "Created on Fri Apr 29 19:30:41 2022\n",
        "Lorenz system simulator\n",
        "@author: Fredy Vides\n",
        "\"\"\"\n",
        "\n",
        "def HamiltonianSystem(q0 = 1.0, p0 = 0.0):\n",
        "    from numpy import arange\n",
        "    from scipy.integrate import odeint\n",
        "\n",
        "    def Hamiltonian(state, t):\n",
        "        q, p = state\n",
        "\n",
        "        dq = p**3-9*p\n",
        "        dp = q**3-9*q\n",
        "        return [dq, dp]\n",
        "\n",
        "    y0 = [q0, p0]\n",
        "    t = arange(0.0, 40.0, 0.01)\n",
        "\n",
        "    z = odeint(Hamiltonian, y0, t, rtol = 1e-10, atol = 1e-10)\n",
        "\n",
        "    return t,z"
      ]
    },
    {
      "cell_type": "markdown",
      "metadata": {
        "id": "lObWgxddoPaz"
      },
      "source": [
        "### `K4SymProjector.py`:\n",
        "#### K4-Symmetric Projector\n",
        "\n",
        "The system generated in the function `HamiltionianSystem(·)` is $K_4$-equivariant. For the configuration used for this experiment, the matrix representation $\\mathbf{G}_{\\boldsymbol{\\pi}}(K_4)$ of the corresponding group of symmetries $$K_4=\\left\\langle r_1,r_2\\left| r_1^2=r_2^2=\\left(r_1r_2\\right)^2=e\\right.\\right\\rangle$$\n",
        "is determined by the following assignments.\n",
        "\\begin{align*}\n",
        "r_1&\\mapsto r_{1,\\boldsymbol{\\rho}} =\\begin{bmatrix}\n",
        "0 & 1\\\\\n",
        "1 & 0\n",
        "\\end{bmatrix}\\\\\n",
        "r_2&\\mapsto r_{2,\\boldsymbol{\\rho}}= \\begin{bmatrix}\n",
        "-1 & 0\\\\\n",
        "0 & -1\n",
        "\\end{bmatrix}\n",
        "\\end{align*}"
      ]
    },
    {
      "cell_type": "code",
      "execution_count": 31,
      "metadata": {
        "id": "e6eOZSVfoPaz"
      },
      "outputs": [],
      "source": [
        "\"\"\"\n",
        "Created on Fri Jul 15 20:40:07 2022\n",
        "K4-symmetric projector\n",
        "@author: Fredy Vides\n",
        "\"\"\"\n",
        "\n",
        "def K4SymProjector(data,solver,L,S,ss,tp,nz,g1,g2,G1,G2,tol,delta):\n",
        "    from numpy import reshape, identity, kron, diag, zeros\n",
        "    from scipy.linalg import svd\n",
        "    # from RCDataGen import RCDataGen\n",
        "    # from spsolver import spsolver\n",
        "\n",
        "    s = data.shape\n",
        "    sL = s[0]*L\n",
        "    R = s[1]-L+1\n",
        "\n",
        "    D,r = RCDataGen(data,L,S,ss,tp)\n",
        "    D0 = D[:,:-1]\n",
        "    D1 = D[:sL,1:]\n",
        "\n",
        "    ri = r.T@diag(1/diag(r@r.T))\n",
        "    k1 = g1\n",
        "    k2 = g2\n",
        "    K1 = r@G1@ri\n",
        "    K2 = r@G2@ri\n",
        "    n = (sL,D.shape[0])\n",
        "    m = n[0]*n[1]\n",
        "    n1 = (sL,D0.shape[1])\n",
        "    m1 = n1[0]*n1[1]\n",
        "    E = identity(m)\n",
        "    K1 = kron(K1,k1)-E\n",
        "    K2 = kron(K2,k2)-E\n",
        "    K = K1.T@K1 + K2.T@K2\n",
        "    u,rk,_ = svd(K,full_matrices=0)\n",
        "    rk = sum(rk>tol*1e-5)\n",
        "    u = u[:,rk:]\n",
        "    us = u.shape[1]\n",
        "    W0 = zeros((m1,us))\n",
        "    for j in range(us):\n",
        "        w0 = reshape(u[:,j],(n[1],n[0])).T\n",
        "        w0 = w0@D0\n",
        "        W0[:,j] = reshape(w0, (m1))\n",
        "    W1 = reshape(D1, (m1,1))\n",
        "    c = spsolver(W0,W1,R,solver,nz,tol,delta)\n",
        "    wr = reshape(u@c,(n[1],n[0])).T\n",
        "\n",
        "    return wr,D,r"
      ]
    },
    {
      "cell_type": "markdown",
      "metadata": {
        "id": "UJ3F9IBwoPaz"
      },
      "source": [
        "### Results: Identified signals"
      ]
    },
    {
      "cell_type": "code",
      "execution_count": 32,
      "metadata": {
        "colab": {
          "base_uri": "https://localhost:8080/"
        },
        "id": "C0RSNPypoPaz",
        "outputId": "73d23467-93b4-42ef-bb80-bdde5542d25b"
      },
      "outputs": [
        {
          "output_type": "stream",
          "name": "stdout",
          "text": [
            "Elapsed time:  28.597688674926758\n"
          ]
        }
      ],
      "source": [
        "wr,w0,r,EMconst,RMSE,mdata,y = HamiltonianSystemID(600)"
      ]
    },
    {
      "cell_type": "code",
      "execution_count": 33,
      "metadata": {
        "colab": {
          "base_uri": "https://localhost:8080/",
          "height": 487
        },
        "id": "o3FKse1YoPa1",
        "outputId": "19b20ef7-02f8-4497-b0f1-00ffa018a420"
      },
      "outputs": [
        {
          "output_type": "display_data",
          "data": {
            "text/plain": [
              "<Figure size 640x480 with 2 Axes>"
            ],
            "image/png": "[encoded data removed]"
          },
          "metadata": {}
        }
      ],
      "source": [
        "RMSE_s1, RMSE_n1, EMconst_s1,EMconst_n1 = comparative_metrics(mdata, EMconst, RMSE, y)"
      ]
    },
    {
      "cell_type": "markdown",
      "metadata": {
        "id": "XLxqXhnJoPa1"
      },
      "source": [
        "## COMPUTATIONAL EXAMPLE 2: Identification of a financial competition system with symmetries using EARC\n",
        "\n",
        "Let us consider a discrete-time financial competition system for $5$ banks, characterized by the following recurrence relation:\n",
        "\n",
        "\\begin{align}\n",
        "\\mathbf{p}(t+1)=\\mathbf{p}(t)+\\mathbf{r}\\odot \\mathbf{p}(t)\\odot(\\mathbf{1}_5-\\mathbf{N}\\mathbf{p}(t))\n",
        "\\end{align}\n",
        "\n",
        "\n",
        "In this model, the $i$-th component $\\mathbf{p}(t)[i]$ of each vector $\\mathbf{p}(t)$ is an approximate representation for the value at time step $t$, of the discrete-time signal determined by the smoothed evolution of the representation ranking of bank $i$ in a given market or portfolio, as assessed by some regulating body.\n",
        "\n",
        "The matrix $\\mathbf{N}$, is defined as:\n",
        "\\begin{align*}\n",
        "\\mathbf{N}& =\\begin{bmatrix}\n",
        "1 &  1.1 & 0 &  0 &  1 \\\\\n",
        " 1 & 1 & 1.1 & 0 & 0 \\\\\n",
        " 0 & 1 & 1 & 1.1 & 0 \\\\\n",
        " 0 & 0 & 1 & 1 & 1.1 \\\\\n",
        " 1.1 & 0 & 0 & 1 & 1\n",
        "\\end{bmatrix}\n",
        "\\end{align*}\n",
        "and represents the interaction between banks of the system under consideration. It corresponds to the expected interaction network $\\mathcal{N}=(V_\\mathcal{N},E_{\\mathcal{N}})$ of the $5$ banks considered in this experiment."
      ]
    },
    {
      "cell_type": "markdown",
      "metadata": {
        "id": "UZhww9uPoPa1"
      },
      "source": [
        "### `FinancialCompetitionSystem.py`\n",
        "#### Financial competition simulation\n",
        "The function `FinancialCompetitionSystem()` runs the second experiment as described in Section V.B of Vides et. al 2025."
      ]
    },
    {
      "cell_type": "code",
      "execution_count": 34,
      "metadata": {
        "id": "2fCsx4IHoPa1"
      },
      "outputs": [],
      "source": [
        "\"\"\"\n",
        "Created on Fri Apr 29 19:30:41 2022\n",
        "Financial competition simulation\n",
        "Example:\n",
        "    from FinancialCompetitionSystem import FinancialCompetitionSystem\n",
        "    t,z,wr,g1,G1,G,EMconst,r = FinancialCompetitionSystem(.376,1,1,1.1,31)\n",
        "@author: Fredy Vides, Department of Statistics and Research, CNBS, Honduras\n",
        "\"\"\"\n",
        "\n",
        "def FinancialCompetitionSystem(r,a,b,c,S):\n",
        "    from numpy import zeros, ones, linspace, identity, kron, where, hstack, savetxt\n",
        "    from numpy.linalg import norm\n",
        "    from math import sqrt\n",
        "    # from Z5SymProjector import Z5SymProjector\n",
        "    # from SpaRCSim import SpaRCSim\n",
        "    from networkx import DiGraph, draw_networkx\n",
        "    from matplotlib.pyplot import plot, show, xlabel, ylabel, axis, grid, figure\n",
        "\n",
        "    L = 425\n",
        "    l = 1\n",
        "    s = 5\n",
        "    t = linspace(0,14,L)\n",
        "    z = zeros((s,L))\n",
        "    tp = 2\n",
        "    nz = int(s*l+(s*l)*(s*l+1)/2+1)\n",
        "\n",
        "    z[:,0] = [0.9 , 0.95, 0.7, 0.55, .5]\n",
        "    C = MatGen(a,b,c,s)\n",
        "\n",
        "    for k in range(1,L):\n",
        "        z[:,k:k+1] = system_rhs(z[:,k-1:k],r,C)\n",
        "\n",
        "    savetxt('CompetitionModelData.csv', z.T, delimiter =',')\n",
        "\n",
        "    g1 = identity(5)\n",
        "    g1 = g1[:,[4,0,1,2,3]]\n",
        "\n",
        "    G1 = zeros((s*l+(s*l)**2+1,s*l+(s*l)**2+1))\n",
        "    G1[:s*l,:s*l] = g1\n",
        "    G1[s*l:-1,s*l:-1] = kron(G1[:s*l,:s*l],G1[:s*l,:s*l])\n",
        "    G1[-1,-1] = 1\n",
        "\n",
        "\n",
        "\n",
        "    w0,data,r,mdt = Z5SymProjector(z,\"svd\",l,S,1,tp,nz,g1,G1,1e-3,1e-4)\n",
        "    wr = w0@r\n",
        "    y = SpaRCSim(wr,data[:s*l,-1],tp,L-S+l-1)\n",
        "\n",
        "    nodes = []\n",
        "    edges = []\n",
        "    st = []\n",
        "    tt = []\n",
        "    for j in range(s):\n",
        "        f0 = where(C[j,:]>0)[0]\n",
        "        nodes.append(j)\n",
        "        tt = hstack((tt,f0))\n",
        "        st = hstack((st,j*ones(len(f0))))\n",
        "\n",
        "    st = st.astype('int')\n",
        "    tt = tt.astype('int')\n",
        "    for k in range(len(st)):\n",
        "        edges.append((st[k],tt[k]))\n",
        "\n",
        "    nodes = list(map(lambda x: x+1,nodes))\n",
        "    edges = list(map(lambda x: (x[0]+1,x[1]+1),edges))\n",
        "\n",
        "    G = DiGraph()\n",
        "    G.add_nodes_from(nodes)\n",
        "    G.add_edges_from(edges)\n",
        "\n",
        "    fig1 = figure()\n",
        "    draw_networkx(G, node_color = 'green')\n",
        "    show()\n",
        "    fig1.savefig('fig_Financial_competition_graph.png',dpi=600,format='png')\n",
        "\n",
        "    X0 = z.T[(S-1):]\n",
        "    y_hat = y.T\n",
        "    RMSE = sqrt(norm(y_hat-X0)**2/(X0.shape[0]*X0.shape[1]))\n",
        "\n",
        "\n",
        "    EMconst = 0\n",
        "    h1 = identity(g1.shape[0])\n",
        "    H1 = identity(G1.shape[0])\n",
        "    for k in range(5):\n",
        "        EMconst = EMconst + norm(g1@wr-wr@G1)\n",
        "        h1 = h1@g1\n",
        "        H1 = H1@G1\n",
        "\n",
        "    groups = (g1,G1)\n",
        "    mdata = (mdt,groups)\n",
        "\n",
        "    return t,z,wr,g1,G1,G,EMconst,r,RMSE,mdata,y\n",
        "\n",
        "def MatGen(a,b,c,n):\n",
        "    from numpy import diag,ones\n",
        "    C = diag(ones(n-1),1)\n",
        "    C[-1,0] = 1\n",
        "    return a*C.T+b*diag(ones(n))+c*C\n",
        "\n",
        "def system_rhs(s,r,C):\n",
        "    return s + r*s*(1-C@s)"
      ]
    },
    {
      "cell_type": "markdown",
      "metadata": {
        "id": "NYnSge8MoPa2"
      },
      "source": [
        "### `Z5SymProjector.py`\n",
        "When all components of the growth vector $\\mathbf{r}$ are equal, the system becomes $\\mathbb{Z}_5$-equivariant. For the configuration used for this experiment, $\\mathbf{r}=0.376\\mathbf{1}_5$ and the matrix representation $\\mathbf{G}_{\\boldsymbol{\\pi}}(\\mathbb{Z}_5)$ of the corresponding group of symmetries $\\mathbb{Z}_5=\\langle r| r^5=e\\rangle$ is determined by the following assignment.\n",
        "\\begin{align*}\n",
        "r&\\mapsto r_{\\boldsymbol{\\rho}} =\\begin{bmatrix}\n",
        "0 & 1 & 0 & 0 & 0\\\\\n",
        "0 & 0 & 1 & 0 & 0\\\\\n",
        "0 & 0 & 0 & 1 & 0\\\\\n",
        "0 & 0 & 0 & 0 & 1\\\\\n",
        "1 & 0 & 0 & 0 & 0\\\\\n",
        "\\end{bmatrix}\n",
        "\\end{align*}"
      ]
    },
    {
      "cell_type": "code",
      "execution_count": 35,
      "metadata": {
        "id": "pcvKy_6ooPa2"
      },
      "outputs": [],
      "source": [
        "\"\"\"\n",
        "Created on Fri Jul 15 20:40:07 2022\n",
        "\n",
        "@author: doctor\n",
        "\"\"\"\n",
        "def Z5SymProjector(data,solver,L,S,ss,tp,nz,g1,G1,tol,delta):\n",
        "    from numpy import reshape, identity, kron, diag, zeros\n",
        "    from scipy.linalg import svd\n",
        "    # from RCDataGen import RCDataGen\n",
        "    # from spsolver import spsolver\n",
        "\n",
        "    s = data.shape\n",
        "    sL = s[0]*L\n",
        "    R = s[1]-L+1\n",
        "\n",
        "    D,r = RCDataGen(data,L,S,ss,tp)\n",
        "    D0 = D[:,:-1]\n",
        "    D1 = D[:sL,1:]\n",
        "\n",
        "    ri = r.T@diag(1/diag(r@r.T))\n",
        "    K = r@G1@ri\n",
        "    n = (sL,D.shape[0])\n",
        "    m = n[0]*n[1]\n",
        "    n1 = (sL,D0.shape[1])\n",
        "    m1 = n1[0]*n1[1]\n",
        "    E = identity(m)\n",
        "    K = kron(K,g1)-E\n",
        "    K = K.T@K\n",
        "    u,rk,_ = svd(K,full_matrices=0)\n",
        "    rk = sum(rk>1e-10)\n",
        "    u = u[:,rk:]\n",
        "    us = u.shape[1]\n",
        "    W0 = zeros((m1,us))\n",
        "    for j in range(us):\n",
        "        w0 = reshape(u[:,j],(n[1],n[0])).T\n",
        "        w0 = w0@D0\n",
        "        W0[:,j] = reshape(w0, (m1))\n",
        "    W1 = reshape(D1, (m1,1))\n",
        "    c = spsolver(W0,W1,R,solver,nz,tol,delta)\n",
        "    wr = reshape(u@c,(n[1],n[0])).T\n",
        "    mdata = (data.T,solver,L,S,ss,tp,nz,tol,delta)\n",
        "    return wr,D,r,mdata"
      ]
    },
    {
      "cell_type": "markdown",
      "metadata": {
        "id": "nnMqGEInoPa2"
      },
      "source": [
        "### Results: Identified Siganals"
      ]
    },
    {
      "cell_type": "code",
      "execution_count": 36,
      "metadata": {
        "colab": {
          "base_uri": "https://localhost:8080/",
          "height": 441
        },
        "id": "O417ccFzoPa3",
        "outputId": "68e58f0e-e119-49f3-8118-22d6a8329e79"
      },
      "outputs": [
        {
          "output_type": "display_data",
          "data": {
            "text/plain": [
              "<Figure size 640x480 with 1 Axes>"
            ],
            "image/png": "[encoded data removed]"
          },
          "metadata": {}
        },
        {
          "output_type": "stream",
          "name": "stdout",
          "text": [
            "Equivariant Estimation d_em: 1.0778764377746607e-14\n",
            "Equivariant Estimation RMSE: 1.1967603150389384e-12\n"
          ]
        }
      ],
      "source": [
        "t,z,wr,g1,G1,G,EMconst,r,RMSE,mdata,y = FinancialCompetitionSystem(.376,1,1,1.1,31)\n",
        "print(\"Equivariant Estimation d_em:\",EMconst)\n",
        "print(\"Equivariant Estimation RMSE:\",RMSE)"
      ]
    },
    {
      "cell_type": "code",
      "execution_count": 37,
      "metadata": {
        "colab": {
          "base_uri": "https://localhost:8080/",
          "height": 449
        },
        "id": "tF0XKHyAoPa3",
        "outputId": "86f10b05-a101-48af-9f32-1e046f27a8fd"
      },
      "outputs": [
        {
          "output_type": "display_data",
          "data": {
            "text/plain": [
              "<Figure size 640x480 with 2 Axes>"
            ],
            "image/png": "[encoded data removed]"
          },
          "metadata": {}
        }
      ],
      "source": [
        "RMSE_s2, RMSE_n2, EMconst_s2,EMconst_n2 = comparative_metrics(mdata, EMconst, RMSE, y,t,z,exp=\"Fin\")"
      ]
    },
    {
      "cell_type": "markdown",
      "metadata": {
        "id": "jcVmVPRBoPa3"
      },
      "source": [
        "# Table 1: Error Metrics"
      ]
    },
    {
      "cell_type": "code",
      "execution_count": 38,
      "metadata": {
        "colab": {
          "base_uri": "https://localhost:8080/",
          "height": 112
        },
        "id": "wC2PPWhIoPa9",
        "outputId": "fd69e33a-1458-46ae-dc5d-3c30958e2213"
      },
      "outputs": [
        {
          "output_type": "execute_result",
          "data": {
            "text/plain": [
              "            RMSE_s        RMSE_n     EMconst_s     EMconst_n\n",
              "Exp1  7.902582e-05  1.335309e+00  3.120924e-15  3.165791e+00\n",
              "Exp2  1.196760e-12  5.365852e-07  1.077876e-14  6.159721e-07"
            ],
            "text/html": [
              "\n",
              "  <div id=\"df-3651e1f5-6422-406f-869c-021f3ca36fe2\" class=\"colab-df-container\">\n",
              "    <div>\n",
              "<style scoped>\n",
              "    .dataframe tbody tr th:only-of-type {\n",
              "        vertical-align: middle;\n",
              "    }\n",
              "\n",
              "    .dataframe tbody tr th {\n",
              "        vertical-align: top;\n",
              "    }\n",
              "\n",
              "    .dataframe thead th {\n",
              "        text-align: right;\n",
              "    }\n",
              "</style>\n",
              "<table border=\"1\" class=\"dataframe\">\n",
              "  <thead>\n",
              "    <tr style=\"text-align: right;\">\n",
              "      <th></th>\n",
              "      <th>RMSE_s</th>\n",
              "      <th>RMSE_n</th>\n",
              "      <th>EMconst_s</th>\n",
              "      <th>EMconst_n</th>\n",
              "    </tr>\n",
              "  </thead>\n",
              "  <tbody>\n",
              "    <tr>\n",
              "      <th>Exp1</th>\n",
              "      <td>7.902582e-05</td>\n",
              "      <td>1.335309e+00</td>\n",
              "      <td>3.120924e-15</td>\n",
              "      <td>3.165791e+00</td>\n",
              "    </tr>\n",
              "    <tr>\n",
              "      <th>Exp2</th>\n",
              "      <td>1.196760e-12</td>\n",
              "      <td>5.365852e-07</td>\n",
              "      <td>1.077876e-14</td>\n",
              "      <td>6.159721e-07</td>\n",
              "    </tr>\n",
              "  </tbody>\n",
              "</table>\n",
              "</div>\n",
              "    <div class=\"colab-df-buttons\">\n",
              "\n",
              "  <div class=\"colab-df-container\">\n",
              "    <button class=\"colab-df-convert\" onclick=\"convertToInteractive('df-3651e1f5-6422-406f-869c-021f3ca36fe2')\"\n",
              "            title=\"Convert this dataframe to an interactive table.\"\n",
              "            style=\"display:none;\">\n",
              "\n",
              "  <svg xmlns=\"http://www.w3.org/2000/svg\" height=\"24px\" viewBox=\"0 -960 960 960\">\n",
              "    <path d=\"M120-120v-720h720v720H120Zm60-500h600v-160H180v160Zm220 220h160v-160H400v160Zm0 220h160v-160H400v160ZM180-400h160v-160H180v160Zm440 0h160v-160H620v160ZM180-180h160v-160H180v160Zm440 0h160v-160H620v160Z\"/>\n",
              "  </svg>\n",
              "    </button>\n",
              "\n",
              "  <style>\n",
              "    .colab-df-container {\n",
              "      display:flex;\n",
              "      gap: 12px;\n",
              "    }\n",
              "\n",
              "    .colab-df-convert {\n",
              "      background-color: #E8F0FE;\n",
              "      border: none;\n",
              "      border-radius: 50%;\n",
              "      cursor: pointer;\n",
              "      display: none;\n",
              "      fill: #1967D2;\n",
              "      height: 32px;\n",
              "      padding: 0 0 0 0;\n",
              "      width: 32px;\n",
              "    }\n",
              "\n",
              "    .colab-df-convert:hover {\n",
              "      background-color: #E2EBFA;\n",
              "      box-shadow: 0px 1px 2px rgba(60, 64, 67, 0.3), 0px 1px 3px 1px rgba(60, 64, 67, 0.15);\n",
              "      fill: #174EA6;\n",
              "    }\n",
              "\n",
              "    .colab-df-buttons div {\n",
              "      margin-bottom: 4px;\n",
              "    }\n",
              "\n",
              "    [theme=dark] .colab-df-convert {\n",
              "      background-color: #3B4455;\n",
              "      fill: #D2E3FC;\n",
              "    }\n",
              "\n",
              "    [theme=dark] .colab-df-convert:hover {\n",
              "      background-color: #434B5C;\n",
              "      box-shadow: 0px 1px 3px 1px rgba(0, 0, 0, 0.15);\n",
              "      filter: drop-shadow(0px 1px 2px rgba(0, 0, 0, 0.3));\n",
              "      fill: #FFFFFF;\n",
              "    }\n",
              "  </style>\n",
              "\n",
              "    <script>\n",
              "      const buttonEl =\n",
              "        document.querySelector('#df-3651e1f5-6422-406f-869c-021f3ca36fe2 button.colab-df-convert');\n",
              "      buttonEl.style.display =\n",
              "        google.colab.kernel.accessAllowed ? 'block' : 'none';\n",
              "\n",
              "      async function convertToInteractive(key) {\n",
              "        const element = document.querySelector('#df-3651e1f5-6422-406f-869c-021f3ca36fe2');\n",
              "        const dataTable =\n",
              "          await google.colab.kernel.invokeFunction('convertToInteractive',\n",
              "                                                    [key], {});\n",
              "        if (!dataTable) return;\n",
              "\n",
              "        const docLinkHtml = 'Like what you see? Visit the ' +\n",
              "          '<a target=\"_blank\" href=https://colab.research.google.com/notebooks/data_table.ipynb>data table notebook</a>'\n",
              "          + ' to learn more about interactive tables.';\n",
              "        element.innerHTML = '';\n",
              "        dataTable['output_type'] = 'display_data';\n",
              "        await google.colab.output.renderOutput(dataTable, element);\n",
              "        const docLink = document.createElement('div');\n",
              "        docLink.innerHTML = docLinkHtml;\n",
              "        element.appendChild(docLink);\n",
              "      }\n",
              "    </script>\n",
              "  </div>\n",
              "\n",
              "\n",
              "    <div id=\"df-4d25c090-b773-4122-9e98-367c73e2231c\">\n",
              "      <button class=\"colab-df-quickchart\" onclick=\"quickchart('df-4d25c090-b773-4122-9e98-367c73e2231c')\"\n",
              "                title=\"Suggest charts\"\n",
              "                style=\"display:none;\">\n",
              "\n",
              "<svg xmlns=\"http://www.w3.org/2000/svg\" height=\"24px\"viewBox=\"0 0 24 24\"\n",
              "     width=\"24px\">\n",
              "    <g>\n",
              "        <path d=\"M19 3H5c-1.1 0-2 .9-2 2v14c0 1.1.9 2 2 2h14c1.1 0 2-.9 2-2V5c0-1.1-.9-2-2-2zM9 17H7v-7h2v7zm4 0h-2V7h2v10zm4 0h-2v-4h2v4z\"/>\n",
              "    </g>\n",
              "</svg>\n",
              "      </button>\n",
              "\n",
              "<style>\n",
              "  .colab-df-quickchart {\n",
              "      --bg-color: #E8F0FE;\n",
              "      --fill-color: #1967D2;\n",
              "      --hover-bg-color: #E2EBFA;\n",
              "      --hover-fill-color: #174EA6;\n",
              "      --disabled-fill-color: #AAA;\n",
              "      --disabled-bg-color: #DDD;\n",
              "  }\n",
              "\n",
              "  [theme=dark] .colab-df-quickchart {\n",
              "      --bg-color: #3B4455;\n",
              "      --fill-color: #D2E3FC;\n",
              "      --hover-bg-color: #434B5C;\n",
              "      --hover-fill-color: #FFFFFF;\n",
              "      --disabled-bg-color: #3B4455;\n",
              "      --disabled-fill-color: #666;\n",
              "  }\n",
              "\n",
              "  .colab-df-quickchart {\n",
              "    background-color: var(--bg-color);\n",
              "    border: none;\n",
              "    border-radius: 50%;\n",
              "    cursor: pointer;\n",
              "    display: none;\n",
              "    fill: var(--fill-color);\n",
              "    height: 32px;\n",
              "    padding: 0;\n",
              "    width: 32px;\n",
              "  }\n",
              "\n",
              "  .colab-df-quickchart:hover {\n",
              "    background-color: var(--hover-bg-color);\n",
              "    box-shadow: 0 1px 2px rgba(60, 64, 67, 0.3), 0 1px 3px 1px rgba(60, 64, 67, 0.15);\n",
              "    fill: var(--button-hover-fill-color);\n",
              "  }\n",
              "\n",
              "  .colab-df-quickchart-complete:disabled,\n",
              "  .colab-df-quickchart-complete:disabled:hover {\n",
              "    background-color: var(--disabled-bg-color);\n",
              "    fill: var(--disabled-fill-color);\n",
              "    box-shadow: none;\n",
              "  }\n",
              "\n",
              "  .colab-df-spinner {\n",
              "    border: 2px solid var(--fill-color);\n",
              "    border-color: transparent;\n",
              "    border-bottom-color: var(--fill-color);\n",
              "    animation:\n",
              "      spin 1s steps(1) infinite;\n",
              "  }\n",
              "\n",
              "  @keyframes spin {\n",
              "    0% {\n",
              "      border-color: transparent;\n",
              "      border-bottom-color: var(--fill-color);\n",
              "      border-left-color: var(--fill-color);\n",
              "    }\n",
              "    20% {\n",
              "      border-color: transparent;\n",
              "      border-left-color: var(--fill-color);\n",
              "      border-top-color: var(--fill-color);\n",
              "    }\n",
              "    30% {\n",
              "      border-color: transparent;\n",
              "      border-left-color: var(--fill-color);\n",
              "      border-top-color: var(--fill-color);\n",
              "      border-right-color: var(--fill-color);\n",
              "    }\n",
              "    40% {\n",
              "      border-color: transparent;\n",
              "      border-right-color: var(--fill-color);\n",
              "      border-top-color: var(--fill-color);\n",
              "    }\n",
              "    60% {\n",
              "      border-color: transparent;\n",
              "      border-right-color: var(--fill-color);\n",
              "    }\n",
              "    80% {\n",
              "      border-color: transparent;\n",
              "      border-right-color: var(--fill-color);\n",
              "      border-bottom-color: var(--fill-color);\n",
              "    }\n",
              "    90% {\n",
              "      border-color: transparent;\n",
              "      border-bottom-color: var(--fill-color);\n",
              "    }\n",
              "  }\n",
              "</style>\n",
              "\n",
              "      <script>\n",
              "        async function quickchart(key) {\n",
              "          const quickchartButtonEl =\n",
              "            document.querySelector('#' + key + ' button');\n",
              "          quickchartButtonEl.disabled = true;  // To prevent multiple clicks.\n",
              "          quickchartButtonEl.classList.add('colab-df-spinner');\n",
              "          try {\n",
              "            const charts = await google.colab.kernel.invokeFunction(\n",
              "                'suggestCharts', [key], {});\n",
              "          } catch (error) {\n",
              "            console.error('Error during call to suggestCharts:', error);\n",
              "          }\n",
              "          quickchartButtonEl.classList.remove('colab-df-spinner');\n",
              "          quickchartButtonEl.classList.add('colab-df-quickchart-complete');\n",
              "        }\n",
              "        (() => {\n",
              "          let quickchartButtonEl =\n",
              "            document.querySelector('#df-4d25c090-b773-4122-9e98-367c73e2231c button');\n",
              "          quickchartButtonEl.style.display =\n",
              "            google.colab.kernel.accessAllowed ? 'block' : 'none';\n",
              "        })();\n",
              "      </script>\n",
              "    </div>\n",
              "\n",
              "    </div>\n",
              "  </div>\n"
            ],
            "application/vnd.google.colaboratory.intrinsic+json": {
              "type": "dataframe",
              "summary": "{\n  \"name\": \"          columns=[\\\"RMSE_s\\\", \\\"RMSE_n\\\", \\\"EMconst_s\\\",\\\"EMconst_n\\\"])\",\n  \"rows\": 2,\n  \"fields\": [\n    {\n      \"column\": \"RMSE_s\",\n      \"properties\": {\n        \"dtype\": \"number\",\n        \"std\": 5.587969546119869e-05,\n        \"min\": 1.1967603150389384e-12,\n        \"max\": 7.902582437926579e-05,\n        \"num_unique_values\": 2,\n        \"samples\": [\n          1.1967603150389384e-12,\n          7.902582437926579e-05\n        ],\n        \"semantic_type\": \"\",\n        \"description\": \"\"\n      }\n    },\n    {\n      \"column\": \"RMSE_n\",\n      \"properties\": {\n        \"dtype\": \"number\",\n        \"std\": 0.944205598811193,\n        \"min\": 5.365851599508245e-07,\n        \"max\": 1.3353089000925586,\n        \"num_unique_values\": 2,\n        \"samples\": [\n          5.365851599508245e-07,\n          1.3353089000925586\n        ],\n        \"semantic_type\": \"\",\n        \"description\": \"\"\n      }\n    },\n    {\n      \"column\": \"EMconst_s\",\n      \"properties\": {\n        \"dtype\": \"number\",\n        \"std\": 5.414910979751428e-15,\n        \"min\": 3.1209238311391545e-15,\n        \"max\": 1.0778764377746607e-14,\n        \"num_unique_values\": 2,\n        \"samples\": [\n          1.0778764377746607e-14,\n          3.1209238311391545e-15\n        ],\n        \"semantic_type\": \"\",\n        \"description\": \"\"\n      }\n    },\n    {\n      \"column\": \"EMconst_n\",\n      \"properties\": {\n        \"dtype\": \"number\",\n        \"std\": 2.238551610380335,\n        \"min\": 6.1597213766951e-07,\n        \"max\": 3.16579066344414,\n        \"num_unique_values\": 2,\n        \"samples\": [\n          6.1597213766951e-07,\n          3.16579066344414\n        ],\n        \"semantic_type\": \"\",\n        \"description\": \"\"\n      }\n    }\n  ]\n}"
            }
          },
          "metadata": {},
          "execution_count": 38
        }
      ],
      "source": [
        "from pandas import DataFrame\n",
        "DataFrame(data=[[RMSE_s1, RMSE_n1, EMconst_s1,EMconst_n1],[RMSE_s2, RMSE_n2, EMconst_s2,EMconst_n2]],\n",
        "          index=[\"Exp1\",\"Exp2\"],\n",
        "          columns=[\"RMSE_s\", \"RMSE_n\", \"EMconst_s\",\"EMconst_n\"])"
      ]
    },
    {
      "cell_type": "markdown",
      "metadata": {
        "id": "jGpzWxDmoPa9"
      },
      "source": [
        "# References\n",
        "1. Vides, F., Nogueira, I., Lopez Gutierrez, G., Banegas, L., Flores, E. (2025). Identifying Systems with Symmetries using Equivariant Autoregressive Reservoir Computers.\n",
        "2. Vides, F., Nogueira, I., Banegas, L., Lopez Gutierrez, G., Flores, E. (2025). Dynamic financial processes identification using sparse regressive reservoir computers"
      ]
    }
  ],
  "metadata": {
    "kernelspec": {
      "display_name": "3.11.5",
      "language": "python",
      "name": "python3"
    },
    "language_info": {
      "codemirror_mode": {
        "name": "ipython",
        "version": 3
      },
      "file_extension": ".py",
      "mimetype": "text/x-python",
      "name": "python",
      "nbconvert_exporter": "python",
      "pygments_lexer": "ipython3",
      "version": "3.11.5"
    },
    "colab": {
      "provenance": []
    }
  },
  "nbformat": 4,
  "nbformat_minor": 0
}